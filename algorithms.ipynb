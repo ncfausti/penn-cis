{
 "cells": [
  {
   "cell_type": "code",
   "execution_count": 4,
   "metadata": {},
   "outputs": [
    {
     "name": "stdout",
     "output_type": "stream",
     "text": [
      "1\n",
      "2\n",
      "0\n"
     ]
    }
   ],
   "source": [
    "graph = {'A': set(['B', 'C']),\n",
    "         'B': set(['A', 'D', 'E']),\n",
    "         'C': set(['A', 'F']),\n",
    "         'D': set(['B']),\n",
    "         'E': set(['B', 'F']),\n",
    "         'F': set(['C', 'E'])}\n",
    "\n",
    "import collections\n",
    "\n",
    "def bfs(graph, root):\n",
    "    seen, queue = set([root]), collections.deque([root])\n",
    "    while queue:\n",
    "        vertex = queue.popleft()\n",
    "        visit(vertex)\n",
    "        for node in graph[vertex]:\n",
    "            if node not in seen:\n",
    "                seen.add(node)\n",
    "                queue.append(node)\n",
    "\n",
    "def visit(n):\n",
    "    print(n)\n",
    "\n",
    "graph = {0: [1, 2], 1: [2, 0], 2: []} \n",
    "bfs(graph, 1)"
   ]
  },
  {
   "cell_type": "code",
   "execution_count": 5,
   "metadata": {},
   "outputs": [],
   "source": [
    "xmap = \"\"\"\n",
    "xxoxooxoox\n",
    "oxooxooxxo\n",
    "xooxooooxo\n",
    "oxoxooxoxo\n",
    "xoxoxxxoxo\n",
    "xooxxoxooo\n",
    "xxxxoxoxoo\n",
    "\"\"\"\n",
    "\n",
    "# build adjacency list representation of graph\n",
    "# run bfs to see if START (connected to all 'o's in top row)\n",
    "# is connected to END (connected to all 'o's in bottom row)\n"
   ]
  },
  {
   "cell_type": "code",
   "execution_count": 12,
   "metadata": {},
   "outputs": [
    {
     "name": "stdout",
     "output_type": "stream",
     "text": [
      "{'start': [(0, 2), (0, 4), (0, 5), (0, 7), (0, 8)], 'end': [(0, 4), (0, 6), (0, 8), (0, 9)]}\n"
     ]
    }
   ],
   "source": [
    "mapArr = []\n",
    "for line in xmap.split('\\n'):\n",
    "    if len(line) > 1:\n",
    "        row = []\n",
    "        for char in line:\n",
    "            row.append(char)\n",
    "        maparr.append(row)\n",
    "\n",
    "g = { 'start': [],\n",
    "      'end': [] }\n",
    "\n",
    "# build first row graph connections\n",
    "for i,char in enumerate(maparr[0]):\n",
    "    if char == 'o':\n",
    "        g[\"start\"].append((0,i))\n",
    "\n",
    "# build last row graph connections\n",
    "for i,char in enumerate(maparr[-1]):\n",
    "    if char == 'o':\n",
    "        g[\"end\"].append((0,i))\n",
    "\n",
    "print(g)\n",
    "    "
   ]
  },
  {
   "cell_type": "code",
   "execution_count": null,
   "metadata": {},
   "outputs": [],
   "source": []
  }
 ],
 "metadata": {
  "kernelspec": {
   "display_name": "Python 3",
   "language": "python",
   "name": "python3"
  },
  "language_info": {
   "codemirror_mode": {
    "name": "ipython",
    "version": 3
   },
   "file_extension": ".py",
   "mimetype": "text/x-python",
   "name": "python",
   "nbconvert_exporter": "python",
   "pygments_lexer": "ipython3",
   "version": "3.6.4"
  }
 },
 "nbformat": 4,
 "nbformat_minor": 2
}
